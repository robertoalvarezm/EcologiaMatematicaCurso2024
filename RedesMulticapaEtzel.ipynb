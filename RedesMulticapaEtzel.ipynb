{
  "nbformat": 4,
  "nbformat_minor": 0,
  "metadata": {
    "colab": {
      "provenance": [],
      "authorship_tag": "ABX9TyPW85lZ5UT7mGOCEPj4gJo4",
      "include_colab_link": true
    },
    "kernelspec": {
      "name": "python3",
      "display_name": "Python 3"
    },
    "language_info": {
      "name": "python"
    }
  },
  "cells": [
    {
      "cell_type": "markdown",
      "metadata": {
        "id": "view-in-github",
        "colab_type": "text"
      },
      "source": [
        "<a href=\"https://colab.research.google.com/github/robertoalvarezm/EcologiaMatematicaCurso2024/blob/main/RedesMulticapaEtzel.ipynb\" target=\"_parent\"><img src=\"https://colab.research.google.com/assets/colab-badge.svg\" alt=\"Open In Colab\"/></a>"
      ]
    },
    {
      "cell_type": "code",
      "execution_count": 1,
      "metadata": {
        "colab": {
          "base_uri": "https://localhost:8080/"
        },
        "id": "khSyKESRH91B",
        "outputId": "1297312e-9714-43e2-dff6-7853262c7821"
      },
      "outputs": [
        {
          "output_type": "stream",
          "name": "stdout",
          "text": [
            "Collecting pymnet\n",
            "  Downloading pymnet-1.0.0-py3-none-any.whl.metadata (4.7 kB)\n",
            "Requirement already satisfied: matplotlib>=3.7.0 in /usr/local/lib/python3.11/dist-packages (from pymnet) (3.10.0)\n",
            "Requirement already satisfied: numpy>=1.23.0 in /usr/local/lib/python3.11/dist-packages (from pymnet) (2.0.2)\n",
            "Requirement already satisfied: scipy>=1.10.0 in /usr/local/lib/python3.11/dist-packages (from pymnet) (1.15.2)\n",
            "Requirement already satisfied: networkx<4.0,>=2.0 in /usr/local/lib/python3.11/dist-packages (from pymnet) (3.4.2)\n",
            "Collecting bliss-bind>=0.3.0 (from pymnet)\n",
            "  Downloading bliss_bind-0.3.0-cp311-cp311-manylinux_2_17_x86_64.manylinux2014_x86_64.whl.metadata (1.3 kB)\n",
            "Requirement already satisfied: contourpy>=1.0.1 in /usr/local/lib/python3.11/dist-packages (from matplotlib>=3.7.0->pymnet) (1.3.2)\n",
            "Requirement already satisfied: cycler>=0.10 in /usr/local/lib/python3.11/dist-packages (from matplotlib>=3.7.0->pymnet) (0.12.1)\n",
            "Requirement already satisfied: fonttools>=4.22.0 in /usr/local/lib/python3.11/dist-packages (from matplotlib>=3.7.0->pymnet) (4.57.0)\n",
            "Requirement already satisfied: kiwisolver>=1.3.1 in /usr/local/lib/python3.11/dist-packages (from matplotlib>=3.7.0->pymnet) (1.4.8)\n",
            "Requirement already satisfied: packaging>=20.0 in /usr/local/lib/python3.11/dist-packages (from matplotlib>=3.7.0->pymnet) (24.2)\n",
            "Requirement already satisfied: pillow>=8 in /usr/local/lib/python3.11/dist-packages (from matplotlib>=3.7.0->pymnet) (11.2.1)\n",
            "Requirement already satisfied: pyparsing>=2.3.1 in /usr/local/lib/python3.11/dist-packages (from matplotlib>=3.7.0->pymnet) (3.2.3)\n",
            "Requirement already satisfied: python-dateutil>=2.7 in /usr/local/lib/python3.11/dist-packages (from matplotlib>=3.7.0->pymnet) (2.9.0.post0)\n",
            "Requirement already satisfied: six>=1.5 in /usr/local/lib/python3.11/dist-packages (from python-dateutil>=2.7->matplotlib>=3.7.0->pymnet) (1.17.0)\n",
            "\u001b[33mWARNING: Retrying (Retry(total=4, connect=None, read=None, redirect=None, status=None)) after connection broken by 'ProtocolError('Connection aborted.', RemoteDisconnected('Remote end closed connection without response'))': /packages/73/74/a382d16240a07993f73400945c5ecb1beb3656f65ed6c104ef7a7d72b4b2/pymnet-1.0.0-py3-none-any.whl\u001b[0m\u001b[33m\n",
            "\u001b[0mDownloading pymnet-1.0.0-py3-none-any.whl (2.2 MB)\n",
            "\u001b[2K   \u001b[90m━━━━━━━━━━━━━━━━━━━━━━━━━━━━━━━━━━━━━━━━\u001b[0m \u001b[32m2.2/2.2 MB\u001b[0m \u001b[31m19.1 MB/s\u001b[0m eta \u001b[36m0:00:00\u001b[0m\n",
            "\u001b[?25hDownloading bliss_bind-0.3.0-cp311-cp311-manylinux_2_17_x86_64.manylinux2014_x86_64.whl (141 kB)\n",
            "\u001b[2K   \u001b[90m━━━━━━━━━━━━━━━━━━━━━━━━━━━━━━━━━━━━━━━━\u001b[0m \u001b[32m141.9/141.9 kB\u001b[0m \u001b[31m7.6 MB/s\u001b[0m eta \u001b[36m0:00:00\u001b[0m\n",
            "\u001b[?25hInstalling collected packages: bliss-bind, pymnet\n",
            "Successfully installed bliss-bind-0.3.0 pymnet-1.0.0\n"
          ]
        }
      ],
      "source": [
        "pip install pymnet"
      ]
    },
    {
      "cell_type": "code",
      "source": [
        "from pymnet import *\n",
        "net = MultilayerNetwork(aspects=1)\n",
        "# \"Bacteria 1\" from layer \"Epifitas\" is connected to \"Bacteria 2\" from layer \"Epifitas\"\n",
        "net[\"Bacteria 1\", \"Epifitas\"][\"Bacteria 2\", \"Epifitas\"] = 1\n",
        "net[\"Bacteria 2\", \"Epifitas\"][\"Bacteria 3\", \"Epifitas\"] = 1\n",
        "net[\"Bacteria 3\", \"Intestine\"][\"Bacteria 2\", \"Intestine\"] = 1\n",
        "net[\"Bacteria 2\", \"Intestine\"][\"Bacteria 1\", \"Intestine\"] = 1\n",
        "# \"Bacteria 3\" from layer \"Epifitas\" is connected to \"Bacteria 1\" from layer \"Intestine\"\n",
        "net[\"Bacteria 3\", \"Epifitas\"][\"Bacteria 1\", \"Intestine\"] = 1\n",
        "fig = draw(net, layerPadding=0.05,layout=\"circular\",edgeColorRule={\"rule\":\"edgeweight\", \"colormap\":\"viridis\", \"scaleby\":0.1},\n",
        "           defaultLayerLabelLoc=(0.8,0.8))\n",
        "fig.savefig(\"fig_etzel.pdf\")\n",
        "from google.colab import files\n",
        "files.download(\"fig_etzel.pdf\")"
      ],
      "metadata": {
        "colab": {
          "base_uri": "https://localhost:8080/",
          "height": 406
        },
        "id": "rZFMFayEIiij",
        "outputId": "5fd16eab-9a32-42f4-aa88-6fd752592711"
      },
      "execution_count": 24,
      "outputs": [
        {
          "output_type": "display_data",
          "data": {
            "text/plain": [
              "<IPython.core.display.Javascript object>"
            ],
            "application/javascript": [
              "\n",
              "    async function download(id, filename, size) {\n",
              "      if (!google.colab.kernel.accessAllowed) {\n",
              "        return;\n",
              "      }\n",
              "      const div = document.createElement('div');\n",
              "      const label = document.createElement('label');\n",
              "      label.textContent = `Downloading \"${filename}\": `;\n",
              "      div.appendChild(label);\n",
              "      const progress = document.createElement('progress');\n",
              "      progress.max = size;\n",
              "      div.appendChild(progress);\n",
              "      document.body.appendChild(div);\n",
              "\n",
              "      const buffers = [];\n",
              "      let downloaded = 0;\n",
              "\n",
              "      const channel = await google.colab.kernel.comms.open(id);\n",
              "      // Send a message to notify the kernel that we're ready.\n",
              "      channel.send({})\n",
              "\n",
              "      for await (const message of channel.messages) {\n",
              "        // Send a message to notify the kernel that we're ready.\n",
              "        channel.send({})\n",
              "        if (message.buffers) {\n",
              "          for (const buffer of message.buffers) {\n",
              "            buffers.push(buffer);\n",
              "            downloaded += buffer.byteLength;\n",
              "            progress.value = downloaded;\n",
              "          }\n",
              "        }\n",
              "      }\n",
              "      const blob = new Blob(buffers, {type: 'application/binary'});\n",
              "      const a = document.createElement('a');\n",
              "      a.href = window.URL.createObjectURL(blob);\n",
              "      a.download = filename;\n",
              "      div.appendChild(a);\n",
              "      a.click();\n",
              "      div.remove();\n",
              "    }\n",
              "  "
            ]
          },
          "metadata": {}
        },
        {
          "output_type": "display_data",
          "data": {
            "text/plain": [
              "<IPython.core.display.Javascript object>"
            ],
            "application/javascript": [
              "download(\"download_f32a9250-db39-4025-aaf9-2a8d326e710f\", \"fig_etzel.pdf\", 10312)"
            ]
          },
          "metadata": {}
        },
        {
          "output_type": "display_data",
          "data": {
            "text/plain": [
              "<Figure size 640x480 with 1 Axes>"
            ],
            "image/png": "[encoded data removed]"
          },
          "metadata": {}
        }
      ]
    },
    {
      "cell_type": "markdown",
      "source": [
        "# Monoplex Networks"
      ],
      "metadata": {
        "id": "8K99ff5nLgcu"
      }
    },
    {
      "cell_type": "markdown",
      "source": [
        "`MultilayerNetwork` is the basic network class in the library – all other types of networks are special cases of it. In order to get a monoplex network object, you can simply construct a MultilayerNetwork with 0 aspects."
      ],
      "metadata": {
        "id": "7jekVLJILM4x"
      }
    },
    {
      "cell_type": "code",
      "source": [
        "net = MultilayerNetwork(aspects=0)"
      ],
      "metadata": {
        "id": "bjE_AHt_LR9c"
      },
      "execution_count": 9,
      "outputs": []
    },
    {
      "cell_type": "markdown",
      "source": [
        "You can now start adding nodes to the network with the add_node method:"
      ],
      "metadata": {
        "id": "RdGO8hvxLwBs"
      }
    },
    {
      "cell_type": "code",
      "source": [
        "net.add_node(\"A\")\n",
        "net.add_node(\"B\")\n",
        "net.add_node(\"C\")\n"
      ],
      "metadata": {
        "id": "oasH0evqLxSj"
      },
      "execution_count": 10,
      "outputs": []
    },
    {
      "cell_type": "markdown",
      "source": [
        "Iterating over the network object will yield all the nodes.\n"
      ],
      "metadata": {
        "id": "ovvPLLGbL_d4"
      }
    },
    {
      "cell_type": "code",
      "source": [
        "list(net)"
      ],
      "metadata": {
        "colab": {
          "base_uri": "https://localhost:8080/"
        },
        "id": "lLHXcXYYL-dw",
        "outputId": "270db5cc-ce19-4823-af9d-34574aa6606e"
      },
      "execution_count": 12,
      "outputs": [
        {
          "output_type": "execute_result",
          "data": {
            "text/plain": [
              "['B', 'A', 'C']"
            ]
          },
          "metadata": {},
          "execution_count": 12
        }
      ]
    },
    {
      "cell_type": "markdown",
      "source": [
        "You can access the node objects of the network with the get syntax. The node objects can be used, for example, to get the degree or strength of the node."
      ],
      "metadata": {
        "id": "RaPGxBcCMR6q"
      }
    },
    {
      "cell_type": "code",
      "source": [
        "net[\"A\"].deg()"
      ],
      "metadata": {
        "colab": {
          "base_uri": "https://localhost:8080/"
        },
        "id": "xvaH5COzMTkR",
        "outputId": "4128caa0-1c3a-4c74-baba-25c4662fe70b"
      },
      "execution_count": 13,
      "outputs": [
        {
          "output_type": "execute_result",
          "data": {
            "text/plain": [
              "0"
            ]
          },
          "metadata": {},
          "execution_count": 13
        }
      ]
    },
    {
      "cell_type": "markdown",
      "source": [
        "You can now start adding edges to your network. There are two basic ways of doing this. As the first option, you can use syntax which resembles setting elements in an adjacency matrix:\n",
        "\n"
      ],
      "metadata": {
        "id": "_hs3MbsYMfsb"
      }
    },
    {
      "cell_type": "code",
      "source": [
        "net[\"A\",\"B\"]=1\n",
        "net[\"A\",\"C\"]=1"
      ],
      "metadata": {
        "id": "PBhfYwxGMhOy"
      },
      "execution_count": 14,
      "outputs": []
    },
    {
      "cell_type": "code",
      "source": [
        "net[\"A\"].deg()"
      ],
      "metadata": {
        "colab": {
          "base_uri": "https://localhost:8080/"
        },
        "id": "Y9MCt9SYMsCm",
        "outputId": "29013d50-5669-47bf-93d5-64802c497cfe"
      },
      "execution_count": 15,
      "outputs": [
        {
          "output_type": "execute_result",
          "data": {
            "text/plain": [
              "2"
            ]
          },
          "metadata": {},
          "execution_count": 15
        }
      ]
    },
    {
      "cell_type": "code",
      "source": [
        "list(net)"
      ],
      "metadata": {
        "colab": {
          "base_uri": "https://localhost:8080/"
        },
        "id": "w7xWOqZhMys0",
        "outputId": "546a5242-60a6-42e4-b73d-0db83437ee25"
      },
      "execution_count": 16,
      "outputs": [
        {
          "output_type": "execute_result",
          "data": {
            "text/plain": [
              "['B', 'A', 'C']"
            ]
          },
          "metadata": {},
          "execution_count": 16
        }
      ]
    },
    {
      "cell_type": "markdown",
      "source": [
        "As a second option, you can first access a node object and then get the edge pointing to a neighbor of that node:"
      ],
      "metadata": {
        "id": "J5NZ4x8vNMES"
      }
    },
    {
      "cell_type": "code",
      "source": [
        "net[\"C\"][\"B\"]=1"
      ],
      "metadata": {
        "id": "C78L_g24NNWZ"
      },
      "execution_count": 17,
      "outputs": []
    }
  ]
}